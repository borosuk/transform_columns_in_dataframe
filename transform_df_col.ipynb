{
    "metadata": {
        "kernelspec": {
            "name": "python3",
            "display_name": "Python 3 (ipykernel)",
            "language": "python"
        },
        "language_info": {
            "name": "python",
            "version": "3.10.8",
            "mimetype": "text/x-python",
            "codemirror_mode": {
                "name": "ipython",
                "version": 3
            },
            "pygments_lexer": "ipython3",
            "nbconvert_exporter": "python",
            "file_extension": ".py"
        }
    },
    "nbformat_minor": 2,
    "nbformat": 4,
    "cells": [
        {
            "cell_type": "markdown",
            "source": [
                "### Transform data in given df column(s)"
            ],
            "metadata": {
                "azdata_cell_guid": "332a7ce9-bbe2-4b02-a065-d95698bc77bc"
            },
            "attachments": {}
        },
        {
            "cell_type": "code",
            "source": [
                "import pandas as pd\r\n",
                "from pandas.core.strings import StringMethods\r\n",
                "\r\n",
                "InputDataSet = [\r\n",
                "\t{\r\n",
                "\t\t\"name\": \"Reece Bartlett\",\r\n",
                "\t\t\"company\": \"Vivamus Rhoncus LLC\",\r\n",
                "\t\t\"country\": \"Spain\"\r\n",
                "\t},\r\n",
                "\t{\r\n",
                "\t\t\"name\": \"Finn Bryant\",\r\n",
                "\t\t\"company\": \"Nunc Risus Company\",\r\n",
                "\t\t\"country\": \"Australia\"\r\n",
                "\t},\r\n",
                "\t{\r\n",
                "\t\t\"name\": \"Kay Walter\",\r\n",
                "\t\t\"company\": \"Rhoncus Id Incorporated\",\r\n",
                "\t\t\"country\": \"Philippines\"\r\n",
                "\t},\r\n",
                "\t{\r\n",
                "\t\t\"name\": \"Ann Miranda\",\r\n",
                "\t\t\"company\": \"Quisque Tincidunt Pede Limited\",\r\n",
                "\t\t\"country\": \"Spain\"\r\n",
                "\t},\r\n",
                "\t{\r\n",
                "\t\t\"name\": \"Kylie Glenn\",\r\n",
                "\t\t\"company\": \"Dignissim Maecenas Company\",\r\n",
                "\t\t\"country\": \"Belgium\"\r\n",
                "\t}\r\n",
                "]\r\n",
                "\r\n",
                "df = pd.DataFrame.from_records(InputDataSet)\r\n",
                "\r\n",
                "# Function to transform string data in given df column(s)\r\n",
                "def tranform_df_col(df, transform):\r\n",
                "\treturn df.apply(lambda x: transform(x.str) if x.dtype == \"object\" else x)\r\n",
                "\r\n",
                "# Get data from input query\r\n",
                "df[['name', 'company']] = tranform_df_col(df[['name', 'company']], StringMethods.lower)\r\n",
                "\r\n",
                "OutputDataSet = df\r\n",
                "\r\n",
                "display(OutputDataSet)"
            ],
            "metadata": {
                "azdata_cell_guid": "0688baf4-fb31-4091-93ac-e1b5b2eb0abb",
                "language": "python"
            },
            "outputs": [
                {
                    "data": {
                        "text/plain": "             name                         company      country\n0  reece bartlett             vivamus rhoncus llc        Spain\n1     finn bryant              nunc risus company    Australia\n2      kay walter         rhoncus id incorporated  Philippines\n3     ann miranda  quisque tincidunt pede limited        Spain\n4     kylie glenn      dignissim maecenas company      Belgium",
                        "text/html": "<div>\n<style scoped>\n    .dataframe tbody tr th:only-of-type {\n        vertical-align: middle;\n    }\n\n    .dataframe tbody tr th {\n        vertical-align: top;\n    }\n\n    .dataframe thead th {\n        text-align: right;\n    }\n</style>\n<table border=\"1\" class=\"dataframe\">\n  <thead>\n    <tr style=\"text-align: right;\">\n      <th></th>\n      <th>name</th>\n      <th>company</th>\n      <th>country</th>\n    </tr>\n  </thead>\n  <tbody>\n    <tr>\n      <th>0</th>\n      <td>reece bartlett</td>\n      <td>vivamus rhoncus llc</td>\n      <td>Spain</td>\n    </tr>\n    <tr>\n      <th>1</th>\n      <td>finn bryant</td>\n      <td>nunc risus company</td>\n      <td>Australia</td>\n    </tr>\n    <tr>\n      <th>2</th>\n      <td>kay walter</td>\n      <td>rhoncus id incorporated</td>\n      <td>Philippines</td>\n    </tr>\n    <tr>\n      <th>3</th>\n      <td>ann miranda</td>\n      <td>quisque tincidunt pede limited</td>\n      <td>Spain</td>\n    </tr>\n    <tr>\n      <th>4</th>\n      <td>kylie glenn</td>\n      <td>dignissim maecenas company</td>\n      <td>Belgium</td>\n    </tr>\n  </tbody>\n</table>\n</div>"
                    },
                    "metadata": {},
                    "output_type": "display_data"
                }
            ],
            "execution_count": 1
        },
        {
            "cell_type": "markdown",
            "source": [
                "### Same as above, but in SQL Server, using `sp_execute_external_script`"
            ],
            "metadata": {
                "azdata_cell_guid": "963abf30-928d-4366-b2d8-eb89c4f7c7c4"
            },
            "attachments": {}
        },
        {
            "cell_type": "code",
            "source": [
                "-- random data\r\n",
                "DROP TABLE IF EXISTS #TEMP_VALS\r\n",
                "SELECT * INTO\r\n",
                "\t#TEMP_VALS\r\n",
                "FROM\r\n",
                "\t(VALUES\r\n",
                "\t\t('Reece Bartlett', 'Vivamus Rhoncus LLC', 'Spain'),\r\n",
                "\t\t('Finn Bryant', 'Nunc Risus Company', 'Australia'),\r\n",
                "\t\t('Kay Walter', 'Rhoncus Id Incorporated', 'Philippines'),\r\n",
                "\t\t('Ann Miranda', 'Quisque Tincidunt Pede Limited', 'Spain'),\r\n",
                "\t\t('Kylie Glenn', 'Dignissim Maecenas Company', 'Belgium')\r\n",
                "\t) vals ([name], [company], [country])\r\n",
                "\r\n",
                "-- the input query\r\n",
                "DECLARE @input_query NVARCHAR(MAX) = N'SELECT * FROM #TEMP_VALS'\r\n",
                "\r\n",
                "-- execute the script\r\n",
                "EXEC sp_execute_external_script\r\n",
                "@language = N'Python',\r\n",
                "@script = N'\r\n",
                "import pandas as pd\r\n",
                "from pandas.core.strings import StringMethods\r\n",
                "\r\n",
                "# Function to transform string data in given df column(s)\r\n",
                "def tranform_df_col(df, transform):\r\n",
                "\treturn df.apply(lambda x: transform(x.str) if x.dtype == \"object\" else x)\r\n",
                "\r\n",
                "df = InputDataSet\r\n",
                "\r\n",
                "# Get data from input query\r\n",
                "df[[''name'', ''company'']] = tranform_df_col(df[[''name'', ''company'']], StringMethods.lower)\r\n",
                "\r\n",
                "OutputDataSet = df\r\n",
                "',\r\n",
                "@input_data_1 = @input_query\r\n",
                "WITH RESULT SETS\r\n",
                "((\r\n",
                "\t[name] varchar(100),\r\n",
                "\t[company] varchar(100),\r\n",
                "\t[country] varchar(100)\r\n",
                "))"
            ],
            "metadata": {
                "azdata_cell_guid": "8fdd8267-bd37-4064-bb8c-f1d65c2d1608",
                "language": "sql"
            },
            "outputs": [
                {
                    "output_type": "display_data",
                    "data": {
                        "text/html": "(5 rows affected)"
                    },
                    "metadata": {}
                },
                {
                    "output_type": "display_data",
                    "data": {
                        "text/html": "Total execution time: 00:00:00.360"
                    },
                    "metadata": {}
                },
                {
                    "output_type": "execute_result",
                    "execution_count": 1,
                    "data": {
                        "application/vnd.dataresource+json": {
                            "schema": {
                                "fields": [
                                    {
                                        "name": "name"
                                    },
                                    {
                                        "name": "company"
                                    },
                                    {
                                        "name": "country"
                                    }
                                ]
                            },
                            "data": [
                                {
                                    "0": "reece bartlett",
                                    "1": "vivamus rhoncus llc",
                                    "2": "Spain"
                                },
                                {
                                    "0": "finn bryant",
                                    "1": "nunc risus company",
                                    "2": "Australia"
                                },
                                {
                                    "0": "kay walter",
                                    "1": "rhoncus id incorporated",
                                    "2": "Philippines"
                                },
                                {
                                    "0": "ann miranda",
                                    "1": "quisque tincidunt pede limited",
                                    "2": "Spain"
                                },
                                {
                                    "0": "kylie glenn",
                                    "1": "dignissim maecenas company",
                                    "2": "Belgium"
                                }
                            ]
                        },
                        "text/html": "<table><tr><th>name</th><th>company</th><th>country</th></tr><tr><td>reece bartlett</td><td>vivamus rhoncus llc</td><td>Spain</td></tr><tr><td>finn bryant</td><td>nunc risus company</td><td>Australia</td></tr><tr><td>kay walter</td><td>rhoncus id incorporated</td><td>Philippines</td></tr><tr><td>ann miranda</td><td>quisque tincidunt pede limited</td><td>Spain</td></tr><tr><td>kylie glenn</td><td>dignissim maecenas company</td><td>Belgium</td></tr></table>"
                    },
                    "metadata": {}
                }
            ],
            "execution_count": 1
        }
    ]
}